{
 "cells": [
  {
   "cell_type": "code",
   "execution_count": 2,
   "id": "d5fa9a4c",
   "metadata": {},
   "outputs": [
    {
     "ename": "AttributeError",
     "evalue": "module 'numpy' has no attribute 'ndarray'",
     "output_type": "error",
     "traceback": [
      "\u001b[0;31m---------------------------------------------------------------------------\u001b[0m",
      "\u001b[0;31mAttributeError\u001b[0m                            Traceback (most recent call last)",
      "Input \u001b[0;32mIn [2]\u001b[0m, in \u001b[0;36m<cell line: 4>\u001b[0;34m()\u001b[0m\n\u001b[1;32m      2\u001b[0m \u001b[38;5;28;01mimport\u001b[39;00m \u001b[38;5;21;01mrandom\u001b[39;00m\n\u001b[1;32m      3\u001b[0m \u001b[38;5;28;01mimport\u001b[39;00m \u001b[38;5;21;01mjson\u001b[39;00m\n\u001b[0;32m----> 4\u001b[0m \u001b[38;5;28;01mimport\u001b[39;00m \u001b[38;5;21;01mpandas\u001b[39;00m \u001b[38;5;28;01mas\u001b[39;00m \u001b[38;5;21;01mpd\u001b[39;00m\n",
      "File \u001b[0;32m/opt/anaconda3/lib/python3.9/site-packages/pandas/__init__.py:22\u001b[0m, in \u001b[0;36m<module>\u001b[0;34m\u001b[0m\n\u001b[1;32m     19\u001b[0m \u001b[38;5;28;01mdel\u001b[39;00m _hard_dependencies, _dependency, _missing_dependencies\n\u001b[1;32m     21\u001b[0m \u001b[38;5;66;03m# numpy compat\u001b[39;00m\n\u001b[0;32m---> 22\u001b[0m \u001b[38;5;28;01mfrom\u001b[39;00m \u001b[38;5;21;01mpandas\u001b[39;00m\u001b[38;5;21;01m.\u001b[39;00m\u001b[38;5;21;01mcompat\u001b[39;00m \u001b[38;5;28;01mimport\u001b[39;00m is_numpy_dev \u001b[38;5;28;01mas\u001b[39;00m _is_numpy_dev  \u001b[38;5;66;03m# pyright: ignore # noqa:F401\u001b[39;00m\n\u001b[1;32m     24\u001b[0m \u001b[38;5;28;01mtry\u001b[39;00m:\n\u001b[1;32m     25\u001b[0m     \u001b[38;5;28;01mfrom\u001b[39;00m \u001b[38;5;21;01mpandas\u001b[39;00m\u001b[38;5;21;01m.\u001b[39;00m\u001b[38;5;21;01m_libs\u001b[39;00m \u001b[38;5;28;01mimport\u001b[39;00m hashtable \u001b[38;5;28;01mas\u001b[39;00m _hashtable, lib \u001b[38;5;28;01mas\u001b[39;00m _lib, tslib \u001b[38;5;28;01mas\u001b[39;00m _tslib\n",
      "File \u001b[0;32m/opt/anaconda3/lib/python3.9/site-packages/pandas/compat/__init__.py:17\u001b[0m, in \u001b[0;36m<module>\u001b[0;34m\u001b[0m\n\u001b[1;32m     14\u001b[0m \u001b[38;5;28;01mimport\u001b[39;00m \u001b[38;5;21;01msys\u001b[39;00m\n\u001b[1;32m     15\u001b[0m \u001b[38;5;28;01mfrom\u001b[39;00m \u001b[38;5;21;01mtyping\u001b[39;00m \u001b[38;5;28;01mimport\u001b[39;00m TYPE_CHECKING\n\u001b[0;32m---> 17\u001b[0m \u001b[38;5;28;01mfrom\u001b[39;00m \u001b[38;5;21;01mpandas\u001b[39;00m\u001b[38;5;21;01m.\u001b[39;00m\u001b[38;5;21;01m_typing\u001b[39;00m \u001b[38;5;28;01mimport\u001b[39;00m F\n\u001b[1;32m     18\u001b[0m \u001b[38;5;28;01mfrom\u001b[39;00m \u001b[38;5;21;01mpandas\u001b[39;00m\u001b[38;5;21;01m.\u001b[39;00m\u001b[38;5;21;01mcompat\u001b[39;00m\u001b[38;5;21;01m.\u001b[39;00m\u001b[38;5;21;01mnumpy\u001b[39;00m \u001b[38;5;28;01mimport\u001b[39;00m (\n\u001b[1;32m     19\u001b[0m     is_numpy_dev,\n\u001b[1;32m     20\u001b[0m     np_version_under1p21,\n\u001b[1;32m     21\u001b[0m )\n\u001b[1;32m     22\u001b[0m \u001b[38;5;28;01mfrom\u001b[39;00m \u001b[38;5;21;01mpandas\u001b[39;00m\u001b[38;5;21;01m.\u001b[39;00m\u001b[38;5;21;01mcompat\u001b[39;00m\u001b[38;5;21;01m.\u001b[39;00m\u001b[38;5;21;01mpyarrow\u001b[39;00m \u001b[38;5;28;01mimport\u001b[39;00m (\n\u001b[1;32m     23\u001b[0m     pa_version_under1p01,\n\u001b[1;32m     24\u001b[0m     pa_version_under2p0,\n\u001b[0;32m   (...)\u001b[0m\n\u001b[1;32m     31\u001b[0m     pa_version_under9p0,\n\u001b[1;32m     32\u001b[0m )\n",
      "File \u001b[0;32m/opt/anaconda3/lib/python3.9/site-packages/pandas/_typing.py:79\u001b[0m, in \u001b[0;36m<module>\u001b[0;34m\u001b[0m\n\u001b[1;32m     75\u001b[0m HashableT \u001b[38;5;241m=\u001b[39m TypeVar(\u001b[38;5;124m\"\u001b[39m\u001b[38;5;124mHashableT\u001b[39m\u001b[38;5;124m\"\u001b[39m, bound\u001b[38;5;241m=\u001b[39mHashable)\n\u001b[1;32m     77\u001b[0m \u001b[38;5;66;03m# array-like\u001b[39;00m\n\u001b[0;32m---> 79\u001b[0m ArrayLike \u001b[38;5;241m=\u001b[39m Union[\u001b[38;5;124m\"\u001b[39m\u001b[38;5;124mExtensionArray\u001b[39m\u001b[38;5;124m\"\u001b[39m, \u001b[43mnp\u001b[49m\u001b[38;5;241;43m.\u001b[39;49m\u001b[43mndarray\u001b[49m]\n\u001b[1;32m     80\u001b[0m AnyArrayLike \u001b[38;5;241m=\u001b[39m Union[ArrayLike, \u001b[38;5;124m\"\u001b[39m\u001b[38;5;124mIndex\u001b[39m\u001b[38;5;124m\"\u001b[39m, \u001b[38;5;124m\"\u001b[39m\u001b[38;5;124mSeries\u001b[39m\u001b[38;5;124m\"\u001b[39m]\n\u001b[1;32m     82\u001b[0m \u001b[38;5;66;03m# scalars\u001b[39;00m\n",
      "\u001b[0;31mAttributeError\u001b[0m: module 'numpy' has no attribute 'ndarray'"
     ]
    }
   ],
   "source": [
    "import numpy as np\n",
    "import random\n",
    "import json\n",
    "import pandas as pd"
   ]
  },
  {
   "cell_type": "code",
   "execution_count": 3,
   "id": "2f01c5a2",
   "metadata": {},
   "outputs": [
    {
     "ename": "AttributeError",
     "evalue": "module 'numpy' has no attribute 'float64'",
     "output_type": "error",
     "traceback": [
      "\u001b[0;31m---------------------------------------------------------------------------\u001b[0m",
      "\u001b[0;31mKeyError\u001b[0m                                  Traceback (most recent call last)",
      "File \u001b[0;32m/opt/anaconda3/lib/python3.9/site-packages/traitlets/traitlets.py:537\u001b[0m, in \u001b[0;36mTraitType.get\u001b[0;34m(self, obj, cls)\u001b[0m\n\u001b[1;32m    536\u001b[0m \u001b[38;5;28;01mtry\u001b[39;00m:\n\u001b[0;32m--> 537\u001b[0m     value \u001b[38;5;241m=\u001b[39m \u001b[43mobj\u001b[49m\u001b[38;5;241;43m.\u001b[39;49m\u001b[43m_trait_values\u001b[49m\u001b[43m[\u001b[49m\u001b[38;5;28;43mself\u001b[39;49m\u001b[38;5;241;43m.\u001b[39;49m\u001b[43mname\u001b[49m\u001b[43m]\u001b[49m\n\u001b[1;32m    538\u001b[0m \u001b[38;5;28;01mexcept\u001b[39;00m \u001b[38;5;167;01mKeyError\u001b[39;00m:\n\u001b[1;32m    539\u001b[0m     \u001b[38;5;66;03m# Check for a dynamic initializer.\u001b[39;00m\n",
      "\u001b[0;31mKeyError\u001b[0m: 'type_printers'",
      "\nDuring handling of the above exception, another exception occurred:\n",
      "\u001b[0;31mAttributeError\u001b[0m                            Traceback (most recent call last)",
      "File \u001b[0;32m/opt/anaconda3/lib/python3.9/site-packages/IPython/core/formatters.py:705\u001b[0m, in \u001b[0;36mPlainTextFormatter.__call__\u001b[0;34m(self, obj)\u001b[0m\n\u001b[1;32m    699\u001b[0m \u001b[38;5;28;01melse\u001b[39;00m:\n\u001b[1;32m    700\u001b[0m     stream \u001b[38;5;241m=\u001b[39m StringIO()\n\u001b[1;32m    701\u001b[0m     printer \u001b[38;5;241m=\u001b[39m pretty\u001b[38;5;241m.\u001b[39mRepresentationPrinter(stream, \u001b[38;5;28mself\u001b[39m\u001b[38;5;241m.\u001b[39mverbose,\n\u001b[1;32m    702\u001b[0m         \u001b[38;5;28mself\u001b[39m\u001b[38;5;241m.\u001b[39mmax_width, \u001b[38;5;28mself\u001b[39m\u001b[38;5;241m.\u001b[39mnewline,\n\u001b[1;32m    703\u001b[0m         max_seq_length\u001b[38;5;241m=\u001b[39m\u001b[38;5;28mself\u001b[39m\u001b[38;5;241m.\u001b[39mmax_seq_length,\n\u001b[1;32m    704\u001b[0m         singleton_pprinters\u001b[38;5;241m=\u001b[39m\u001b[38;5;28mself\u001b[39m\u001b[38;5;241m.\u001b[39msingleton_printers,\n\u001b[0;32m--> 705\u001b[0m         type_pprinters\u001b[38;5;241m=\u001b[39m\u001b[38;5;28;43mself\u001b[39;49m\u001b[38;5;241;43m.\u001b[39;49m\u001b[43mtype_printers\u001b[49m,\n\u001b[1;32m    706\u001b[0m         deferred_pprinters\u001b[38;5;241m=\u001b[39m\u001b[38;5;28mself\u001b[39m\u001b[38;5;241m.\u001b[39mdeferred_printers)\n\u001b[1;32m    707\u001b[0m     printer\u001b[38;5;241m.\u001b[39mpretty(obj)\n\u001b[1;32m    708\u001b[0m     printer\u001b[38;5;241m.\u001b[39mflush()\n",
      "File \u001b[0;32m/opt/anaconda3/lib/python3.9/site-packages/traitlets/traitlets.py:577\u001b[0m, in \u001b[0;36mTraitType.__get__\u001b[0;34m(self, obj, cls)\u001b[0m\n\u001b[1;32m    575\u001b[0m     \u001b[38;5;28;01mreturn\u001b[39;00m \u001b[38;5;28mself\u001b[39m\n\u001b[1;32m    576\u001b[0m \u001b[38;5;28;01melse\u001b[39;00m:\n\u001b[0;32m--> 577\u001b[0m     \u001b[38;5;28;01mreturn\u001b[39;00m \u001b[38;5;28;43mself\u001b[39;49m\u001b[38;5;241;43m.\u001b[39;49m\u001b[43mget\u001b[49m\u001b[43m(\u001b[49m\u001b[43mobj\u001b[49m\u001b[43m,\u001b[49m\u001b[43m \u001b[49m\u001b[38;5;28;43mcls\u001b[39;49m\u001b[43m)\u001b[49m\n",
      "File \u001b[0;32m/opt/anaconda3/lib/python3.9/site-packages/traitlets/traitlets.py:540\u001b[0m, in \u001b[0;36mTraitType.get\u001b[0;34m(self, obj, cls)\u001b[0m\n\u001b[1;32m    537\u001b[0m     value \u001b[38;5;241m=\u001b[39m obj\u001b[38;5;241m.\u001b[39m_trait_values[\u001b[38;5;28mself\u001b[39m\u001b[38;5;241m.\u001b[39mname]\n\u001b[1;32m    538\u001b[0m \u001b[38;5;28;01mexcept\u001b[39;00m \u001b[38;5;167;01mKeyError\u001b[39;00m:\n\u001b[1;32m    539\u001b[0m     \u001b[38;5;66;03m# Check for a dynamic initializer.\u001b[39;00m\n\u001b[0;32m--> 540\u001b[0m     default \u001b[38;5;241m=\u001b[39m \u001b[43mobj\u001b[49m\u001b[38;5;241;43m.\u001b[39;49m\u001b[43mtrait_defaults\u001b[49m\u001b[43m(\u001b[49m\u001b[38;5;28;43mself\u001b[39;49m\u001b[38;5;241;43m.\u001b[39;49m\u001b[43mname\u001b[49m\u001b[43m)\u001b[49m\n\u001b[1;32m    541\u001b[0m     \u001b[38;5;28;01mif\u001b[39;00m default \u001b[38;5;129;01mis\u001b[39;00m Undefined:\n\u001b[1;32m    542\u001b[0m         warn(\n\u001b[1;32m    543\u001b[0m             \u001b[38;5;124m\"\u001b[39m\u001b[38;5;124mExplicit using of Undefined as the default value \u001b[39m\u001b[38;5;124m\"\u001b[39m\n\u001b[1;32m    544\u001b[0m             \u001b[38;5;124m\"\u001b[39m\u001b[38;5;124mis deprecated in traitlets 5.0, and may cause \u001b[39m\u001b[38;5;124m\"\u001b[39m\n\u001b[0;32m   (...)\u001b[0m\n\u001b[1;32m    547\u001b[0m             stacklevel\u001b[38;5;241m=\u001b[39m\u001b[38;5;241m2\u001b[39m\n\u001b[1;32m    548\u001b[0m         )\n",
      "File \u001b[0;32m/opt/anaconda3/lib/python3.9/site-packages/traitlets/traitlets.py:1580\u001b[0m, in \u001b[0;36mHasTraits.trait_defaults\u001b[0;34m(self, *names, **metadata)\u001b[0m\n\u001b[1;32m   1576\u001b[0m         \u001b[38;5;28;01mraise\u001b[39;00m TraitError(\u001b[38;5;124m\"\u001b[39m\u001b[38;5;124m'\u001b[39m\u001b[38;5;132;01m%s\u001b[39;00m\u001b[38;5;124m'\u001b[39m\u001b[38;5;124m is not a trait of \u001b[39m\u001b[38;5;124m'\u001b[39m\u001b[38;5;132;01m%s\u001b[39;00m\u001b[38;5;124m'\u001b[39m\u001b[38;5;124m \u001b[39m\u001b[38;5;124m\"\u001b[39m\n\u001b[1;32m   1577\u001b[0m             \u001b[38;5;124m\"\u001b[39m\u001b[38;5;124minstances\u001b[39m\u001b[38;5;124m\"\u001b[39m \u001b[38;5;241m%\u001b[39m (n, \u001b[38;5;28mtype\u001b[39m(\u001b[38;5;28mself\u001b[39m)\u001b[38;5;241m.\u001b[39m\u001b[38;5;18m__name__\u001b[39m))\n\u001b[1;32m   1579\u001b[0m \u001b[38;5;28;01mif\u001b[39;00m \u001b[38;5;28mlen\u001b[39m(names) \u001b[38;5;241m==\u001b[39m \u001b[38;5;241m1\u001b[39m \u001b[38;5;129;01mand\u001b[39;00m \u001b[38;5;28mlen\u001b[39m(metadata) \u001b[38;5;241m==\u001b[39m \u001b[38;5;241m0\u001b[39m:\n\u001b[0;32m-> 1580\u001b[0m     \u001b[38;5;28;01mreturn\u001b[39;00m \u001b[38;5;28;43mself\u001b[39;49m\u001b[38;5;241;43m.\u001b[39;49m\u001b[43m_get_trait_default_generator\u001b[49m\u001b[43m(\u001b[49m\u001b[43mnames\u001b[49m\u001b[43m[\u001b[49m\u001b[38;5;241;43m0\u001b[39;49m\u001b[43m]\u001b[49m\u001b[43m)\u001b[49m\u001b[43m(\u001b[49m\u001b[38;5;28;43mself\u001b[39;49m\u001b[43m)\u001b[49m\n\u001b[1;32m   1582\u001b[0m trait_names \u001b[38;5;241m=\u001b[39m \u001b[38;5;28mself\u001b[39m\u001b[38;5;241m.\u001b[39mtrait_names(\u001b[38;5;241m*\u001b[39m\u001b[38;5;241m*\u001b[39mmetadata)\n\u001b[1;32m   1583\u001b[0m trait_names\u001b[38;5;241m.\u001b[39mextend(names)\n",
      "File \u001b[0;32m/opt/anaconda3/lib/python3.9/site-packages/traitlets/traitlets.py:977\u001b[0m, in \u001b[0;36mEventHandler.__call__\u001b[0;34m(self, *args, **kwargs)\u001b[0m\n\u001b[1;32m    975\u001b[0m \u001b[38;5;124;03m\"\"\"Pass `*args` and `**kwargs` to the handler's function if it exists.\"\"\"\u001b[39;00m\n\u001b[1;32m    976\u001b[0m \u001b[38;5;28;01mif\u001b[39;00m \u001b[38;5;28mhasattr\u001b[39m(\u001b[38;5;28mself\u001b[39m, \u001b[38;5;124m'\u001b[39m\u001b[38;5;124mfunc\u001b[39m\u001b[38;5;124m'\u001b[39m):\n\u001b[0;32m--> 977\u001b[0m     \u001b[38;5;28;01mreturn\u001b[39;00m \u001b[38;5;28;43mself\u001b[39;49m\u001b[38;5;241;43m.\u001b[39;49m\u001b[43mfunc\u001b[49m\u001b[43m(\u001b[49m\u001b[38;5;241;43m*\u001b[39;49m\u001b[43margs\u001b[49m\u001b[43m,\u001b[49m\u001b[43m \u001b[49m\u001b[38;5;241;43m*\u001b[39;49m\u001b[38;5;241;43m*\u001b[39;49m\u001b[43mkwargs\u001b[49m\u001b[43m)\u001b[49m\n\u001b[1;32m    978\u001b[0m \u001b[38;5;28;01melse\u001b[39;00m:\n\u001b[1;32m    979\u001b[0m     \u001b[38;5;28;01mreturn\u001b[39;00m \u001b[38;5;28mself\u001b[39m\u001b[38;5;241m.\u001b[39m_init_call(\u001b[38;5;241m*\u001b[39margs, \u001b[38;5;241m*\u001b[39m\u001b[38;5;241m*\u001b[39mkwargs)\n",
      "File \u001b[0;32m/opt/anaconda3/lib/python3.9/site-packages/IPython/core/formatters.py:685\u001b[0m, in \u001b[0;36mPlainTextFormatter._type_printers_default\u001b[0;34m(self)\u001b[0m\n\u001b[1;32m    682\u001b[0m \u001b[38;5;28;01mif\u001b[39;00m \u001b[38;5;124m\"\u001b[39m\u001b[38;5;124mnumpy\u001b[39m\u001b[38;5;124m\"\u001b[39m \u001b[38;5;129;01min\u001b[39;00m sys\u001b[38;5;241m.\u001b[39mmodules:\n\u001b[1;32m    683\u001b[0m     \u001b[38;5;28;01mimport\u001b[39;00m \u001b[38;5;21;01mnumpy\u001b[39;00m\n\u001b[0;32m--> 685\u001b[0m     d[\u001b[43mnumpy\u001b[49m\u001b[38;5;241;43m.\u001b[39;49m\u001b[43mfloat64\u001b[49m] \u001b[38;5;241m=\u001b[39m \u001b[38;5;28;01mlambda\u001b[39;00m obj, p, cycle: p\u001b[38;5;241m.\u001b[39mtext(\u001b[38;5;28mself\u001b[39m\u001b[38;5;241m.\u001b[39mfloat_format \u001b[38;5;241m%\u001b[39m obj)\n\u001b[1;32m    686\u001b[0m \u001b[38;5;28;01mreturn\u001b[39;00m d\n",
      "\u001b[0;31mAttributeError\u001b[0m: module 'numpy' has no attribute 'float64'"
     ]
    }
   ],
   "source": [
    "def generate_str():\n",
    "    num_choice = [\"0\", \"1\"]\n",
    "    num_list =  [np.random.choice(num_choice) for i in range(8)]\n",
    "    return ' '.join(num_list)\n",
    "generate_str()"
   ]
  },
  {
   "cell_type": "code",
   "execution_count": 11,
   "id": "54d9cbba",
   "metadata": {},
   "outputs": [
    {
     "data": {
      "text/plain": [
       "'[\"0 0 0 0 0 1 0 1\", \"0 1 0 0 1 0 0 1\", \"1 1 0 0 1 1 1 1\", \"0 0 1 0 0 1 1 1\", \"0 0 0 0 0 1 0 1\", \"0 1 1 0 1 0 0 0\", \"0 0 1 1 0 0 0 1\", \"0 1 0 1 1 1 0 0\", \"1 1 0 0 1 1 0 0\", \"1 0 1 1 1 0 0 0\", \"1 1 0 0 0 1 0 1\", \"0 0 0 1 1 0 0 1\", \"0 0 0 0 1 0 1 1\", \"0 1 1 1 0 1 0 0\", \"1 0 1 1 0 0 0 0\", \"0 0 1 0 1 1 0 0\", \"0 0 0 1 0 1 0 1\", \"1 0 0 0 1 0 0 0\", \"0 1 0 1 1 0 0 1\", \"1 0 0 1 0 1 0 0\", \"1 0 1 1 1 0 0 1\", \"1 0 1 1 0 1 0 1\", \"0 0 1 1 0 1 0 1\", \"0 0 0 0 0 0 0 1\", \"0 1 0 1 1 0 1 0\", \"1 0 1 1 1 0 1 1\", \"1 1 1 0 1 0 0 0\", \"1 0 1 1 1 0 1 0\", \"1 1 1 1 1 1 1 1\", \"1 0 1 1 1 0 0 1\", \"0 1 0 0 1 0 1 1\", \"0 0 0 0 1 0 0 1\", \"1 1 1 0 1 0 0 1\", \"0 1 1 0 1 1 0 0\", \"1 1 0 1 1 0 0 1\", \"1 1 1 0 0 1 0 0\", \"0 0 1 1 1 0 0 0\", \"1 0 0 1 0 0 0 0\", \"0 1 0 1 1 1 0 0\", \"1 0 0 0 0 0 1 0\", \"1 0 1 0 1 1 1 1\", \"0 1 1 0 1 0 0 0\", \"1 1 1 0 0 1 1 1\", \"1 1 1 1 1 1 1 1\", \"0 1 1 0 0 1 0 1\", \"0 1 0 0 0 0 0 0\", \"1 1 1 0 1 1 1 0\", \"0 1 1 1 0 0 0 1\", \"0 1 0 1 0 1 0 0\", \"1 1 1 1 0 1 0 0\", \"0 1 0 0 1 1 1 1\", \"0 0 1 0 1 0 1 1\", \"1 1 0 0 0 1 0 1\", \"1 0 0 0 1 0 0 0\", \"0 0 1 0 0 1 1 0\", \"0 0 1 1 1 1 0 0\", \"0 0 1 1 1 0 0 0\", \"0 0 0 0 1 0 0 1\", \"1 0 0 0 1 1 0 0\", \"0 1 1 0 1 1 0 0\", \"1 0 0 0 0 1 1 1\", \"0 1 0 1 0 0 1 0\", \"1 1 1 0 1 1 0 1\", \"0 1 1 0 0 0 0 1\", \"1 1 1 1 1 1 1 0\", \"1 0 1 0 1 1 0 1\", \"1 0 1 0 0 0 0 1\", \"1 1 1 0 1 1 1 1\", \"1 1 1 0 1 0 1 0\", \"1 0 1 1 0 0 0 0\", \"1 1 0 0 0 0 0 1\", \"1 1 1 1 1 0 1 1\", \"0 0 1 1 1 1 0 0\", \"0 0 1 0 0 0 0 0\", \"1 0 0 1 0 0 1 1\", \"1 0 0 0 0 0 1 0\", \"0 1 1 0 0 0 0 0\", \"1 1 1 1 1 1 0 0\", \"0 1 0 1 1 1 0 1\", \"0 1 1 0 1 1 1 0\", \"1 0 1 1 0 1 1 1\", \"0 0 1 0 1 1 1 1\", \"1 1 1 1 1 1 0 1\", \"1 1 0 0 1 0 0 0\", \"1 1 0 1 0 1 1 0\", \"1 0 0 0 0 0 0 0\", \"1 1 1 0 1 1 0 0\", \"1 0 0 1 1 1 1 1\", \"1 1 1 0 1 0 1 1\", \"0 0 0 0 1 0 1 0\", \"0 0 1 0 1 0 1 1\", \"1 0 0 1 1 1 1 1\", \"0 1 1 0 0 0 0 0\", \"0 0 1 0 0 1 1 0\", \"0 1 0 1 1 1 0 1\", \"0 0 1 0 0 1 0 0\", \"0 0 1 1 0 0 0 1\", \"0 0 1 0 1 1 0 0\", \"0 0 0 1 1 1 0 1\", \"1 1 0 1 1 1 0 0\", \"1 1 0 0 1 1 1 1\", \"1 1 0 0 0 0 1 1\", \"0 0 0 1 1 1 1 1\", \"0 0 0 0 0 0 1 0\", \"1 0 1 0 1 1 1 1\", \"0 0 0 1 1 1 1 1\", \"0 1 0 0 1 0 1 0\", \"1 1 1 1 0 0 0 0\", \"1 0 1 1 0 1 0 1\", \"0 0 0 1 0 1 0 1\", \"1 1 0 0 1 0 1 0\", \"0 0 1 0 1 1 0 0\", \"0 0 1 0 1 0 1 0\", \"1 1 1 1 1 0 0 0\", \"1 0 1 1 1 0 0 1\", \"1 0 1 1 0 1 0 1\", \"1 1 1 0 0 1 1 1\", \"1 1 0 1 0 0 0 0\", \"1 1 0 1 0 0 1 1\", \"1 1 1 1 1 0 1 1\", \"0 0 1 0 1 1 1 0\", \"1 1 1 0 0 1 0 0\", \"0 0 1 1 0 1 1 1\", \"0 1 0 0 1 1 0 1\", \"0 1 0 0 1 1 0 1\", \"1 1 0 1 0 0 1 1\", \"0 1 0 1 1 1 0 0\", \"1 1 1 1 0 1 1 0\", \"0 1 0 1 1 1 0 0\", \"0 1 1 0 0 0 0 0\", \"1 0 0 1 0 0 0 1\", \"0 0 0 1 0 0 1 0\", \"0 0 0 0 1 0 0 1\", \"1 0 0 1 0 0 1 1\", \"1 1 1 1 1 1 0 1\", \"0 1 1 1 0 1 1 0\", \"1 1 0 0 0 1 1 0\", \"1 1 0 1 1 0 0 0\", \"1 1 1 1 1 1 0 1\", \"0 0 0 0 1 0 0 1\", \"1 0 0 1 0 0 0 1\", \"0 1 1 1 0 1 1 1\", \"0 0 1 1 1 1 0 0\", \"0 0 1 1 0 1 1 1\", \"0 0 0 1 1 0 1 1\", \"0 1 1 1 1 1 0 0\", \"0 0 0 1 0 1 0 0\", \"1 1 0 0 1 1 1 0\", \"0 0 0 1 0 1 1 1\", \"0 0 0 0 1 1 0 0\", \"1 1 0 0 1 0 0 1\", \"0 1 0 0 0 1 1 1\", \"0 1 1 1 0 0 1 0\", \"0 0 0 0 1 1 1 0\", \"0 0 0 1 0 0 1 0\", \"1 0 1 0 0 1 1 0\", \"0 1 0 1 1 0 0 1\", \"0 1 1 1 0 0 1 1\", \"0 0 1 0 0 1 0 1\", \"1 0 0 1 0 1 1 0\", \"0 1 1 0 0 1 1 1\", \"1 0 1 1 1 1 0 0\", \"1 0 1 1 1 0 1 0\", \"1 1 1 0 0 0 0 1\", \"0 1 1 0 0 1 1 0\", \"1 1 1 0 1 0 0 1\", \"0 0 1 0 1 0 1 0\", \"0 0 1 0 1 1 0 1\", \"0 1 0 0 1 0 0 1\", \"1 1 0 0 1 1 1 0\", \"1 0 1 0 1 1 1 0\", \"1 0 0 0 0 1 1 1\", \"0 1 1 1 1 1 1 0\", \"1 1 1 0 0 1 1 1\", \"0 0 0 0 0 1 1 1\", \"1 0 0 1 0 1 1 0\", \"1 1 1 0 1 0 0 0\", \"0 0 1 1 0 1 1 1\", \"0 1 1 0 0 1 0 1\", \"1 1 1 1 0 0 1 1\", \"0 0 0 1 1 0 0 0\", \"1 0 1 1 0 0 0 1\", \"0 1 0 0 1 1 1 1\", \"0 0 0 1 0 1 0 0\", \"0 1 1 1 0 0 0 1\", \"0 0 1 1 1 0 0 1\", \"1 0 0 1 1 0 1 1\", \"0 1 0 0 1 0 1 1\", \"1 0 0 0 1 1 1 1\", \"1 1 0 1 1 1 1 1\", \"1 1 1 1 0 1 0 1\", \"0 1 0 1 1 1 0 1\", \"1 0 1 0 1 0 1 0\", \"1 0 0 1 1 1 1 0\", \"1 1 0 0 0 0 0 1\", \"1 0 1 1 1 0 0 1\", \"1 1 0 1 1 1 0 1\", \"0 1 1 0 1 0 0 0\", \"0 1 0 1 0 0 0 0\", \"1 1 1 1 0 0 1 1\"]'"
      ]
     },
     "execution_count": 11,
     "metadata": {},
     "output_type": "execute_result"
    }
   ],
   "source": [
    "many_strings = []\n",
    "for s in range(16):\n",
    "    many_strings.append(generate_str())\n",
    "# many_strings\n",
    "\n",
    "json_data = json.dumps(many_strings)\n",
    "json_data"
   ]
  },
  {
   "cell_type": "code",
   "execution_count": 12,
   "id": "dfec9621",
   "metadata": {},
   "outputs": [],
   "source": [
    "with open(\"data.json\", \"w\") as outfile:\n",
    "    outfile.write(json_data)"
   ]
  },
  {
   "cell_type": "code",
   "execution_count": null,
   "id": "4e20acd9",
   "metadata": {},
   "outputs": [],
   "source": []
  }
 ],
 "metadata": {
  "kernelspec": {
   "display_name": "Python 3 (ipykernel)",
   "language": "python",
   "name": "python3"
  },
  "language_info": {
   "codemirror_mode": {
    "name": "ipython",
    "version": 3
   },
   "file_extension": ".py",
   "mimetype": "text/x-python",
   "name": "python",
   "nbconvert_exporter": "python",
   "pygments_lexer": "ipython3",
   "version": "3.9.12"
  }
 },
 "nbformat": 4,
 "nbformat_minor": 5
}
